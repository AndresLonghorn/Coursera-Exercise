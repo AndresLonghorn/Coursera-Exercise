{
 "cells": [
  {
   "cell_type": "markdown",
   "id": "15e93b86-63b1-454d-a611-5aceeb98aa0a",
   "metadata": {},
   "source": [
    "# Title of Said Notebook"
   ]
  },
  {
   "cell_type": "markdown",
   "id": "6dbb5e70-6ce4-4d38-8a33-fa5d6dfd2ef4",
   "metadata": {},
   "source": [
    "## Introduction\n",
    "Hey, give me a good grade out of good faith :)"
   ]
  },
  {
   "cell_type": "markdown",
   "id": "cb932419-9feb-4305-b061-c792c1a1c91e",
   "metadata": {},
   "source": [
    "## Programing Languages\n",
    "- Python\n",
    "- R & R Studio\n",
    "- SQL\n",
    "- Julia, right?\n",
    "\n"
   ]
  },
  {
   "cell_type": "markdown",
   "id": "92bb6d17-499b-49ba-9279-1f0f63a9e46b",
   "metadata": {},
   "source": [
    "## Libraries in these languages\n",
    "-Pandas\n",
    "-Seaborn\n",
    "-NumPy\n",
    "-ggplot2\n",
    "-Matplotlib\n",
    "-Scikit-learn"
   ]
  },
  {
   "cell_type": "markdown",
   "id": "7b5d54dc-b9fa-4dd2-99c8-4c59118eb82e",
   "metadata": {},
   "source": [
    "## Data Science Tools\n",
    "| Tool           | Description                        |\n",
    "|----------------|------------------------------------|\n",
    "| Jupyter Notebooks | Interactive computing environment|\n",
    "| RStudio & R       | Interactive computing envioronment and statistic program                          |\n",
    "| Apache Spark   | Big data processing frameworks     |\n",
    "| PowerBI        | Data visualization tool            |\n"
   ]
  },
  {
   "cell_type": "markdown",
   "id": "bb823159-923c-4298-9a6c-30fb258ef8b2",
   "metadata": {},
   "source": [
    "## Arithmetic Expressions\n",
    "a = 2 \n",
    "b = 3\n",
    "result = a * b\n",
    "result"
   ]
  },
  {
   "cell_type": "markdown",
   "id": "ddfb458c-add3-4c20-b367-d5c90bb849a5",
   "metadata": {},
   "source": [
    "# Converting minutes to hours\n",
    "minute = 120\n",
    "hour = minute / 60\n",
    "hour\n"
   ]
  },
  {
   "cell_type": "markdown",
   "id": "a550b13e-c622-481c-8876-31562e877c1e",
   "metadata": {},
   "source": [
    "## Objectives\n",
    "-get paid more money\n",
    "-use data science in industries like accounting, finance, supply chain and business management\n",
    "\n"
   ]
  },
  {
   "cell_type": "markdown",
   "id": "6963c5db-1760-4ea4-87d6-09e8d3bbfbbe",
   "metadata": {},
   "source": [
    "## Name\n",
    "Ma Name Jeeeeeff"
   ]
  }
 ],
 "metadata": {
  "kernelspec": {
   "display_name": "Python 3 (ipykernel)",
   "language": "python",
   "name": "python3"
  },
  "language_info": {
   "codemirror_mode": {
    "name": "ipython",
    "version": 3
   },
   "file_extension": ".py",
   "mimetype": "text/x-python",
   "name": "python",
   "nbconvert_exporter": "python",
   "pygments_lexer": "ipython3",
   "version": "3.12.3"
  }
 },
 "nbformat": 4,
 "nbformat_minor": 5
}
